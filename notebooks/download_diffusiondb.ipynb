{
 "cells": [
  {
   "cell_type": "code",
   "execution_count": null,
   "metadata": {},
   "outputs": [],
   "source": [
    "!pip install numpy Pillow datasets\n",
    "import numpy as np\n",
    "from PIL import Image\n",
    "from datasets import load_dataset\n",
    "from pathlib import Path"
   ]
  },
  {
   "cell_type": "code",
   "execution_count": null,
   "metadata": {},
   "outputs": [],
   "source": [
    "dataset = load_dataset('poloclub/diffusiondb', '2m_first_5k', cache_dir = \"/fast-drive/yakushev/diffusiondb\", trust_remote_code=True)\n",
    "filtered_folder = \"/fast-drive/yakushev/diffusiondb-filtered\"\n",
    "Path(filtered_folder).mkdir(exist_ok=True)"
   ]
  },
  {
   "cell_type": "code",
   "execution_count": null,
   "metadata": {},
   "outputs": [],
   "source": [
    "# All data are stored in the `train` split\n",
    "data = dataset['train']"
   ]
  },
  {
   "cell_type": "code",
   "execution_count": null,
   "metadata": {},
   "outputs": [],
   "source": [
    "img_num =0\n",
    "img_data = data[\"image\"]\n",
    "nsfw_data = data[\"image_nsfw\"]\n",
    "for image, nsfw_score in zip(img_data, nsfw_data):\n",
    "    if nsfw_score > 1:\n",
    "        continue\n",
    "\n",
    "    image.save(Path(filtered_folder)/f\"{img_num}.png\")\n",
    "    img_num += 1\n"
   ]
  },
  {
   "cell_type": "code",
   "execution_count": null,
   "metadata": {},
   "outputs": [],
   "source": []
  }
 ],
 "metadata": {
  "kernelspec": {
   "display_name": "venv",
   "language": "python",
   "name": "python3"
  },
  "language_info": {
   "codemirror_mode": {
    "name": "ipython",
    "version": 3
   },
   "file_extension": ".py",
   "mimetype": "text/x-python",
   "name": "python",
   "nbconvert_exporter": "python",
   "pygments_lexer": "ipython3",
   "version": "3.8.10"
  }
 },
 "nbformat": 4,
 "nbformat_minor": 2
}
